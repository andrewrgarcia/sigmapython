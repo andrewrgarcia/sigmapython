{
 "cells": [
  {
   "cell_type": "markdown",
   "metadata": {},
   "source": [
    "# pdsfit for Excel with Direct Terminal Commands\n",
    "\n",
    "## Andrew Garcia, 2020"
   ]
  },
  {
   "cell_type": "markdown",
   "metadata": {},
   "source": [
    "Data in Excel files can be easily called and processed through the pdsfit functions through your Windows, Apple or Linux terminal with pdsfit.py and pdsfit.py. This is done by the use of the **argparser** python module. So, what do these files do?"
   ]
  },
  {
   "cell_type": "markdown",
   "metadata": {},
   "source": [
    "**pdsfit.py** - For analyzing a single data column in one Excel file.\n",
    "* 1\\. Loads Excel file with data.\n",
    "* 2\\. Processes data through frame_dist.py's make() function. Builds histogram and probability distribution fitted equations(s) thereof.\n",
    "* 3\\. Publishes statistical parameters in terminal output. \n",
    "* 4\\. ALL IN ONE TERMINAL LINE\n",
    "\n",
    "**pdsfit_more.py** - For analyzing a large dataset; multiple data columns in different Excel files.\n",
    "* 1\\. Loads MULTIPLE Excel files with data.\n",
    "* 2\\. Processes data through frame_dist.py's make() function. Builds histograms and probability distribution fitted equations(s) thereof.\n",
    "* 3\\. Tabulates and publishes all statistical parameters obtained from the entire dataset in a new Excel file. \n",
    "* 4\\. ALL IN ONE TERMINAL LINE\n"
   ]
  },
  {
   "cell_type": "markdown",
   "metadata": {},
   "source": [
    "Open your system's terminal or command line and go to the directory where all your pdsfit files reside. Then type the following:"
   ]
  },
  {
   "cell_type": "markdown",
   "metadata": {},
   "source": [
    "**python pdsfit.py -h**"
   ]
  },
  {
   "cell_type": "markdown",
   "metadata": {},
   "source": [
    "<img src=\"figures/pds-h.png\" alt=\"drawing\" width=\"600\"/></a>"
   ]
  },
  {
   "cell_type": "markdown",
   "metadata": {},
   "source": [
    "These are the arguments which can be added after calling the python file. All arguments come with a default argument, which can be changed by calling it on the terminal. For example, typing the following:"
   ]
  },
  {
   "cell_type": "markdown",
   "metadata": {},
   "source": [
    "**python pdsfit.py -c \"pink\" -b 20 -p 'C:/files/XLdata/example.xls'**"
   ]
  },
  {
   "cell_type": "markdown",
   "metadata": {},
   "source": [
    "will change with the file to be loaded (-p) to the one residing on the path above, the histogram color to pink, and change the number of bins to 20. Notice that -p has the complete name of the file at the end of the path."
   ]
  },
  {
   "cell_type": "markdown",
   "metadata": {},
   "source": [
    "If we are to look at the help documentation of pdsfit_more.py:"
   ]
  },
  {
   "cell_type": "markdown",
   "metadata": {},
   "source": [
    "**python pdsfit_more.py -h**"
   ]
  },
  {
   "cell_type": "markdown",
   "metadata": {},
   "source": [
    "<img src=\"figures/pdsmore-h.png\" alt=\"drawing\" width=\"600\"/></a>"
   ]
  },
  {
   "cell_type": "markdown",
   "metadata": {},
   "source": [
    "As you can see, the last argument in the terminal figure above (-xl) tabulates results of the statistical fits (e.g. mean, spread, scale, loc... ) from all data vectors into an Excel file. This argument is defaulted to True, meaning it always happens unless explicitly indicated not to (i.e. python pdsfit_more.py -xl False)"
   ]
  },
  {
   "cell_type": "markdown",
   "metadata": {},
   "source": [
    "Notice here the path argument -p shall not include the name of the file at the end; -fn should hold the name of the Excel files. Additionally, all Excel files which lie on different folders should have the same name (here the default for -fn is \"Results.xls\"). "
   ]
  },
  {
   "cell_type": "markdown",
   "metadata": {},
   "source": [
    "Thus if we were to have:\n",
    "* a folder which holds subfolders with our Excel data (with path \"c:\\app\\alldata\\')\n",
    "* where the Excel files in every subfolder is named datahere.xls\n",
    "* where the data of interest in every Excel file starts in column C2 in Sheet1\n",
    "then our terminal command call should be:"
   ]
  },
  {
   "cell_type": "markdown",
   "metadata": {},
   "source": [
    "**python pdsfit_more.py -p \"C:\\app\\alldata\" -fn \"datahere.xls\" -v \"C2\" -s \"Sheet1\"**"
   ]
  },
  {
   "cell_type": "markdown",
   "metadata": {},
   "source": [
    "## Example: Using pdsfit_more.py to extract statistical data from /templates-examples/pdsfit/dataset directory"
   ]
  },
  {
   "cell_type": "markdown",
   "metadata": {},
   "source": [
    "For this you will need to download the **dataset** folder in **/templates-examples/pdsfit** in this repository. Then place it in your own directory. After that, type the following [with your own adaptations]:"
   ]
  },
  {
   "cell_type": "markdown",
   "metadata": {},
   "source": [
    "**python pdsfit_more.py -fn \"Results.xls\" -v \"B1\" -p \"[your_path]\\dataset\"**"
   ]
  },
  {
   "cell_type": "markdown",
   "metadata": {},
   "source": [
    "You will get the following after executing code and closing each plot being generated:"
   ]
  },
  {
   "cell_type": "markdown",
   "metadata": {},
   "source": [
    "<img src=\"figures/screenshot_pdsmore.png\" alt=\"drawing\" width=\"1000\"/></a>"
   ]
  },
  {
   "cell_type": "markdown",
   "metadata": {},
   "source": [
    "Congratulations! You can now process raw data into histogram and obtain statistical parameters thereof (Normal, Lognormal, Exponential, Beta, Gamma distributions) with python and using your system's terminal. "
   ]
  },
  {
   "cell_type": "markdown",
   "metadata": {},
   "source": [
    "#### Andrew"
   ]
  }
 ],
 "metadata": {
  "kernelspec": {
   "display_name": "Python 3",
   "language": "python",
   "name": "python3"
  },
  "language_info": {
   "codemirror_mode": {
    "name": "ipython",
    "version": 3
   },
   "file_extension": ".py",
   "mimetype": "text/x-python",
   "name": "python",
   "nbconvert_exporter": "python",
   "pygments_lexer": "ipython3",
   "version": "3.8.3"
  }
 },
 "nbformat": 4,
 "nbformat_minor": 2
}
